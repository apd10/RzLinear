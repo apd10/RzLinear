{
 "cells": [
  {
   "cell_type": "code",
   "execution_count": 1,
   "metadata": {},
   "outputs": [],
   "source": [
    "from RzLinear import RzLinearFunction\n",
    "import torch\n",
    "from RzLinear import RzLinear \n",
    "import torch.nn as nn\n",
    "import numpy as np\n",
    "import matplotlib.pyplot as plt\n",
    "import rz_linear\n",
    "import os\n",
    "os.environ[\"CUDA_VISIBLE_DEVICES\"] = '4'"
   ]
  },
  {
   "cell_type": "code",
   "execution_count": 2,
   "metadata": {},
   "outputs": [],
   "source": [
    "DEV=0\n",
    "TILED = True\n",
    "input_dim = 40000\n",
    "output_dim = 500\n",
    "weight_size = 1000000\n",
    "chunk_size = 2\n",
    "r = np.random.RandomState(1024)\n",
    "x = r.randint(0, 2038074743, (50,))\n",
    "x = x + 1*(x%2==0);\n",
    "random_numbers = torch.from_numpy(np.concatenate([np.array([2038074743]), x])).long().cuda(DEV) # set of 50 random numbers to use"
   ]
  },
  {
   "cell_type": "code",
   "execution_count": 3,
   "metadata": {},
   "outputs": [],
   "source": [
    "idx =rz_linear.get_idx(random_numbers, input_dim, output_dim, chunk_size, weight_size, TILED)\n",
    "torch.cuda.synchronize()"
   ]
  },
  {
   "cell_type": "code",
   "execution_count": 4,
   "metadata": {},
   "outputs": [
    {
     "data": {
      "text/plain": [
       "tensor([[490689, 490690, 490691,  ...,  94192,  94193,  94194],\n",
       "        [490705, 490706, 490707,  ...,  94208,  94209,  94210],\n",
       "        [490721, 490722, 490723,  ...,  94224,  94225,  94226],\n",
       "        ...,\n",
       "        [974406, 974407, 974408,  ..., 577909, 577910, 577911],\n",
       "        [974422, 974423, 974424,  ..., 577925, 577926, 577927],\n",
       "        [974438, 974439, 974440,  ..., 577941, 577942, 577943]],\n",
       "       device='cuda:0')"
      ]
     },
     "execution_count": 4,
     "metadata": {},
     "output_type": "execute_result"
    }
   ],
   "source": [
    "idx"
   ]
  },
  {
   "cell_type": "code",
   "execution_count": 5,
   "metadata": {
    "scrolled": true
   },
   "outputs": [
    {
     "data": {
      "text/plain": [
       "(array([1997294., 1998764., 1999517., 2001469., 1999675., 1999636.,\n",
       "        2002330., 2002243., 2000790., 1998282.]),\n",
       " array([1.000000e+00, 1.000001e+05, 1.999992e+05, 2.999983e+05,\n",
       "        3.999974e+05, 4.999965e+05, 5.999956e+05, 6.999947e+05,\n",
       "        7.999938e+05, 8.999929e+05, 9.999920e+05]),\n",
       " <a list of 10 Patch objects>)"
      ]
     },
     "execution_count": 5,
     "metadata": {},
     "output_type": "execute_result"
    },
    {
     "data": {
      "image/png": "[encoded data removed]",
      "text/plain": [
       "<Figure size 432x288 with 1 Axes>"
      ]
     },
     "metadata": {
      "needs_background": "light"
     },
     "output_type": "display_data"
    }
   ],
   "source": [
    "plt.hist(np.array(idx.reshape(-1).cpu().detach()))"
   ]
  },
  {
   "cell_type": "code",
   "execution_count": 7,
   "metadata": {},
   "outputs": [],
   "source": [
    "hashed_weight = nn.Parameter(torch.from_numpy(np.random.uniform(-1/np.sqrt(output_dim), 1/np.sqrt(output_dim), size=weight_size).astype(np.float32))).to(\"cuda:0\")\n",
    "#hashed_weight = nn.Parameter(torch.rand((weight_size))).to(\"cuda:0\")"
   ]
  },
  {
   "cell_type": "code",
   "execution_count": 8,
   "metadata": {},
   "outputs": [],
   "source": [
    "weight = nn.Parameter(torch.clone(hashed_weight[idx].detach())).cuda(0)"
   ]
  },
  {
   "cell_type": "code",
   "execution_count": 9,
   "metadata": {},
   "outputs": [
    {
     "data": {
      "text/plain": [
       "tensor(6.4850e-05, device='cuda:0', grad_fn=<MaxBackward1>)"
      ]
     },
     "execution_count": 9,
     "metadata": {},
     "output_type": "execute_result"
    }
   ],
   "source": [
    "def forward_actual(inp, wt):\n",
    "    return torch.mm(inp, wt)\n",
    "\n",
    "def forward_rz(inp, hwt):\n",
    "    return RzLinearFunction.forwardproxy(hwt, inp ,random_numbers, input_dim, output_dim, chunk_size, TILED)\n",
    "\n",
    "input_v = nn.Parameter(torch.rand((5,input_dim)), requires_grad=True).cuda(0)\n",
    "A = forward_actual(input_v, weight)\n",
    "B = forward_rz(input_v, hashed_weight)\n",
    "torch.max(torch.abs(A - B))"
   ]
  },
  {
   "cell_type": "code",
   "execution_count": 10,
   "metadata": {},
   "outputs": [
    {
     "data": {
      "text/plain": [
       "(Parameter containing:\n",
       " tensor([[ 0.0060,  0.0394,  0.0427,  ...,  0.0140,  0.0431, -0.0169],\n",
       "         [-0.0177,  0.0372, -0.0341,  ...,  0.0350,  0.0351,  0.0257],\n",
       "         [-0.0308,  0.0392,  0.0227,  ...,  0.0257,  0.0251, -0.0170],\n",
       "         ...,\n",
       "         [-0.0358,  0.0023, -0.0368,  ..., -0.0355, -0.0335,  0.0248],\n",
       "         [ 0.0156, -0.0169, -0.0120,  ...,  0.0179, -0.0104,  0.0419],\n",
       "         [ 0.0016,  0.0225,  0.0189,  ...,  0.0007,  0.0163, -0.0350]],\n",
       "        device='cuda:0', requires_grad=True),\n",
       " tensor([-0.0402,  0.0026,  0.0072,  ...,  0.0050,  0.0002, -0.0431],\n",
       "        device='cuda:0', grad_fn=<CopyBackwards>))"
      ]
     },
     "execution_count": 10,
     "metadata": {},
     "output_type": "execute_result"
    }
   ],
   "source": [
    "weight, hashed_weight"
   ]
  },
  {
   "cell_type": "code",
   "execution_count": 11,
   "metadata": {},
   "outputs": [
    {
     "data": {
      "text/plain": [
       "(tensor([[-1.7615,  2.8697,  5.8295,  ..., -2.3295,  4.4663,  6.9032],\n",
       "         [-2.7469,  1.3401,  4.3010,  ..., -5.3618,  4.9123,  8.2675],\n",
       "         [-2.7312,  2.4597,  5.5347,  ..., -5.6957,  1.9609,  6.3627],\n",
       "         [-3.4171,  0.1643,  5.2013,  ..., -8.2271,  4.5357,  7.8807],\n",
       "         [-2.0603,  2.8020,  6.8687,  ..., -4.2195,  0.5374,  7.4021]],\n",
       "        device='cuda:0', grad_fn=<MmBackward>),\n",
       " tensor([[-1.7616,  2.8697,  5.8295,  ..., -2.3295,  4.4663,  6.9032],\n",
       "         [-2.7469,  1.3401,  4.3010,  ..., -5.3618,  4.9124,  8.2676],\n",
       "         [-2.7312,  2.4597,  5.5346,  ..., -5.6957,  1.9608,  6.3627],\n",
       "         [-3.4171,  0.1643,  5.2013,  ..., -8.2271,  4.5357,  7.8807],\n",
       "         [-2.0603,  2.8020,  6.8687,  ..., -4.2195,  0.5374,  7.4021]],\n",
       "        device='cuda:0'))"
      ]
     },
     "execution_count": 11,
     "metadata": {},
     "output_type": "execute_result"
    }
   ],
   "source": [
    "A,B"
   ]
  },
  {
   "cell_type": "code",
   "execution_count": 12,
   "metadata": {},
   "outputs": [],
   "source": [
    "def forward_actual(inp, wt):\n",
    "    X = torch.matmul(inp, wt)\n",
    "    return torch.sum(X)\n",
    "\n",
    "def forward_rz(inp, hwt):\n",
    "    X= RzLinearFunction.forwardproxy(hwt, inp ,random_numbers, input_dim, output_dim, chunk_size, TILED)\n",
    "    return torch.sum(X)\n",
    "\n",
    "def backward_actual(inp, wt):\n",
    "    A = forward_actual(inp, wt)\n",
    "    A.backward()\n",
    "    return wt.grad, inp.grad\n",
    "\n",
    "def backward_rz(inp, hwt):\n",
    "    B = forward_rz(inp, hwt)\n",
    "    grad = torch.ones((inp.shape[0], output_dim)).cuda(0)\n",
    "    in_grad, wt_grad = RzLinearFunction.backwardproxy(grad, hwt, inp, random_numbers, input_dim, output_dim, chunk_size, TILED)\n",
    "    return in_grad, wt_grad"
   ]
  },
  {
   "cell_type": "code",
   "execution_count": 13,
   "metadata": {},
   "outputs": [],
   "source": [
    "input_v = nn.Parameter(torch.rand((5,input_dim)), requires_grad=True).cuda(0)\n",
    "input_v.retain_grad()\n",
    "in_grad, wt_grad = backward_rz(input_v, hashed_weight)\n",
    "wt_grad_2, in_grad_2 = backward_actual(input_v, weight)"
   ]
  },
  {
   "cell_type": "code",
   "execution_count": 14,
   "metadata": {},
   "outputs": [
    {
     "name": "stdout",
     "output_type": "stream",
     "text": [
      "tensor(4.5776e-05, device='cuda:0')\n"
     ]
    }
   ],
   "source": [
    "wt_grad_actual_p = torch.zeros_like(hashed_weight).cuda(0)\n",
    "wt_grad_actual_p.scatter_add_(0, idx.reshape(-1), wt_grad_2.reshape(-1))\n",
    "print(torch.max(torch.abs(wt_grad_actual_p - wt_grad)))"
   ]
  },
  {
   "cell_type": "code",
   "execution_count": 15,
   "metadata": {},
   "outputs": [
    {
     "name": "stdout",
     "output_type": "stream",
     "text": [
      "tensor(2.1458e-06, device='cuda:0')\n"
     ]
    }
   ],
   "source": [
    "print(torch.max(torch.abs(in_grad_2 - in_grad)))"
   ]
  },
  {
   "cell_type": "code",
   "execution_count": 16,
   "metadata": {},
   "outputs": [
    {
     "data": {
      "text/plain": [
       "tensor([0.0000, 2.8988, 2.8988,  ..., 0.0000, 0.0000, 0.0000], device='cuda:0')"
      ]
     },
     "execution_count": 16,
     "metadata": {},
     "output_type": "execute_result"
    }
   ],
   "source": [
    "wt_grad_actual_p"
   ]
  },
  {
   "cell_type": "code",
   "execution_count": 17,
   "metadata": {},
   "outputs": [
    {
     "data": {
      "text/plain": [
       "tensor([0.0000, 2.8988, 2.8988,  ..., 0.0000, 0.0000, 0.0000], device='cuda:0')"
      ]
     },
     "execution_count": 17,
     "metadata": {},
     "output_type": "execute_result"
    }
   ],
   "source": [
    "wt_grad"
   ]
  },
  {
   "cell_type": "code",
   "execution_count": 18,
   "metadata": {},
   "outputs": [
    {
     "data": {
      "text/plain": [
       "tensor([2.8988, 2.8988, 2.8988,  ..., 2.3053, 2.3053, 2.3053], device='cuda:0')"
      ]
     },
     "execution_count": 18,
     "metadata": {},
     "output_type": "execute_result"
    }
   ],
   "source": [
    "wt_grad[wt_grad!=0]"
   ]
  },
  {
   "cell_type": "code",
   "execution_count": 19,
   "metadata": {},
   "outputs": [
    {
     "data": {
      "text/plain": [
       "(tensor([[-0.5413,  0.8012, -0.5487,  ..., -0.4879,  1.0071, -0.1151],\n",
       "         [-0.5413,  0.8012, -0.5487,  ..., -0.4879,  1.0071, -0.1151],\n",
       "         [-0.5413,  0.8012, -0.5487,  ..., -0.4879,  1.0071, -0.1151],\n",
       "         [-0.5413,  0.8012, -0.5487,  ..., -0.4879,  1.0071, -0.1151],\n",
       "         [-0.5413,  0.8012, -0.5487,  ..., -0.4879,  1.0071, -0.1151]],\n",
       "        device='cuda:0'),\n",
       " tensor([[-0.5413,  0.8012, -0.5487,  ..., -0.4879,  1.0071, -0.1151],\n",
       "         [-0.5413,  0.8012, -0.5487,  ..., -0.4879,  1.0071, -0.1151],\n",
       "         [-0.5413,  0.8012, -0.5487,  ..., -0.4879,  1.0071, -0.1151],\n",
       "         [-0.5413,  0.8012, -0.5487,  ..., -0.4879,  1.0071, -0.1151],\n",
       "         [-0.5413,  0.8012, -0.5487,  ..., -0.4879,  1.0071, -0.1151]],\n",
       "        device='cuda:0'))"
      ]
     },
     "execution_count": 19,
     "metadata": {},
     "output_type": "execute_result"
    }
   ],
   "source": [
    "in_grad_2,in_grad"
   ]
  },
  {
   "cell_type": "code",
   "execution_count": null,
   "metadata": {},
   "outputs": [],
   "source": []
  }
 ],
 "metadata": {
  "kernelspec": {
   "display_name": "Python 3",
   "language": "python",
   "name": "python3"
  },
  "language_info": {
   "codemirror_mode": {
    "name": "ipython",
    "version": 3
   },
   "file_extension": ".py",
   "mimetype": "text/x-python",
   "name": "python",
   "nbconvert_exporter": "python",
   "pygments_lexer": "ipython3",
   "version": "3.8.3"
  }
 },
 "nbformat": 4,
 "nbformat_minor": 4
}
